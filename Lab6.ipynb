{
 "cells": [
  {
   "cell_type": "code",
   "execution_count": 2,
   "id": "8285dc9f-acc1-4cf3-9fd6-325fb9e5ec02",
   "metadata": {},
   "outputs": [],
   "source": [
    "import pandas as pd\n",
    "import numpy as np\n",
    "import seaborn as sns\n",
    "from sklearn import datasets\n",
    "import matplotlib.pyplot as plt\n",
    "\n",
    "test=pd.read_csv('users_behavior.csv')"
   ]
  },
  {
   "cell_type": "code",
   "execution_count": 3,
   "id": "1b0cc921-7bf6-4afb-8573-73f722be5b4a",
   "metadata": {},
   "outputs": [
    {
     "data": {
      "text/html": [
       "<div>\n",
       "<style scoped>\n",
       "    .dataframe tbody tr th:only-of-type {\n",
       "        vertical-align: middle;\n",
       "    }\n",
       "\n",
       "    .dataframe tbody tr th {\n",
       "        vertical-align: top;\n",
       "    }\n",
       "\n",
       "    .dataframe thead th {\n",
       "        text-align: right;\n",
       "    }\n",
       "</style>\n",
       "<table border=\"1\" class=\"dataframe\">\n",
       "  <thead>\n",
       "    <tr style=\"text-align: right;\">\n",
       "      <th></th>\n",
       "      <th>calls</th>\n",
       "      <th>minutes</th>\n",
       "      <th>messages</th>\n",
       "      <th>mb_used</th>\n",
       "      <th>is_ultra</th>\n",
       "    </tr>\n",
       "  </thead>\n",
       "  <tbody>\n",
       "    <tr>\n",
       "      <th>0</th>\n",
       "      <td>40.0</td>\n",
       "      <td>311.90</td>\n",
       "      <td>83.0</td>\n",
       "      <td>19915.42</td>\n",
       "      <td>0</td>\n",
       "    </tr>\n",
       "    <tr>\n",
       "      <th>1</th>\n",
       "      <td>85.0</td>\n",
       "      <td>516.75</td>\n",
       "      <td>56.0</td>\n",
       "      <td>22696.96</td>\n",
       "      <td>0</td>\n",
       "    </tr>\n",
       "    <tr>\n",
       "      <th>2</th>\n",
       "      <td>77.0</td>\n",
       "      <td>467.66</td>\n",
       "      <td>86.0</td>\n",
       "      <td>21060.45</td>\n",
       "      <td>0</td>\n",
       "    </tr>\n",
       "    <tr>\n",
       "      <th>3</th>\n",
       "      <td>106.0</td>\n",
       "      <td>745.53</td>\n",
       "      <td>81.0</td>\n",
       "      <td>8437.39</td>\n",
       "      <td>1</td>\n",
       "    </tr>\n",
       "    <tr>\n",
       "      <th>4</th>\n",
       "      <td>66.0</td>\n",
       "      <td>418.74</td>\n",
       "      <td>1.0</td>\n",
       "      <td>14502.75</td>\n",
       "      <td>0</td>\n",
       "    </tr>\n",
       "  </tbody>\n",
       "</table>\n",
       "</div>"
      ],
      "text/plain": [
       "   calls  minutes  messages   mb_used  is_ultra\n",
       "0   40.0   311.90      83.0  19915.42         0\n",
       "1   85.0   516.75      56.0  22696.96         0\n",
       "2   77.0   467.66      86.0  21060.45         0\n",
       "3  106.0   745.53      81.0   8437.39         1\n",
       "4   66.0   418.74       1.0  14502.75         0"
      ]
     },
     "execution_count": 3,
     "metadata": {},
     "output_type": "execute_result"
    }
   ],
   "source": [
    "test.head()"
   ]
  },
  {
   "cell_type": "code",
   "execution_count": 4,
   "id": "5e6b752c-e44d-4b5d-b8ab-3c29434b2f7b",
   "metadata": {},
   "outputs": [
    {
     "name": "stdout",
     "output_type": "stream",
     "text": [
      "<class 'pandas.core.frame.DataFrame'>\n",
      "RangeIndex: 3214 entries, 0 to 3213\n",
      "Data columns (total 5 columns):\n",
      " #   Column    Non-Null Count  Dtype  \n",
      "---  ------    --------------  -----  \n",
      " 0   calls     3214 non-null   float64\n",
      " 1   minutes   3214 non-null   float64\n",
      " 2   messages  3214 non-null   float64\n",
      " 3   mb_used   3214 non-null   float64\n",
      " 4   is_ultra  3214 non-null   int64  \n",
      "dtypes: float64(4), int64(1)\n",
      "memory usage: 125.7 KB\n"
     ]
    }
   ],
   "source": [
    "test.info()"
   ]
  },
  {
   "cell_type": "code",
   "execution_count": null,
   "id": "38449fe9-493e-4a86-9f24-ebfb06b197b3",
   "metadata": {},
   "outputs": [],
   "source": [
    "Заменим тип объекта messages на int"
   ]
  },
  {
   "cell_type": "code",
   "execution_count": 7,
   "id": "9cf56d2c-dc86-4208-a330-b421ae21918b",
   "metadata": {},
   "outputs": [],
   "source": [
    "test['messages'] = test['messages'].astype('int')"
   ]
  },
  {
   "cell_type": "code",
   "execution_count": 8,
   "id": "3063050a-d2c2-435b-bad7-b64d00af9197",
   "metadata": {},
   "outputs": [
    {
     "name": "stdout",
     "output_type": "stream",
     "text": [
      "<class 'pandas.core.frame.DataFrame'>\n",
      "RangeIndex: 3214 entries, 0 to 3213\n",
      "Data columns (total 5 columns):\n",
      " #   Column    Non-Null Count  Dtype  \n",
      "---  ------    --------------  -----  \n",
      " 0   calls     3214 non-null   float64\n",
      " 1   minutes   3214 non-null   float64\n",
      " 2   messages  3214 non-null   int32  \n",
      " 3   mb_used   3214 non-null   float64\n",
      " 4   is_ultra  3214 non-null   int64  \n",
      "dtypes: float64(3), int32(1), int64(1)\n",
      "memory usage: 113.1 KB\n"
     ]
    }
   ],
   "source": [
    "test.info()"
   ]
  },
  {
   "cell_type": "code",
   "execution_count": 10,
   "id": "be32e487-f929-43e8-af6b-009d547331d9",
   "metadata": {},
   "outputs": [
    {
     "data": {
      "text/plain": [
       "0"
      ]
     },
     "execution_count": 10,
     "metadata": {},
     "output_type": "execute_result"
    }
   ],
   "source": [
    "test.duplicated().sum()"
   ]
  },
  {
   "cell_type": "code",
   "execution_count": 16,
   "id": "82380eb0-8d3c-4813-b6bf-b52b8e7ffd4b",
   "metadata": {},
   "outputs": [],
   "source": [
    "design_matrix = test.loc[:,~test.columns.isin([\"is_ultra\"])]\n",
    "target_vector = test[\"is_ultra\"]"
   ]
  },
  {
   "cell_type": "code",
   "execution_count": 43,
   "id": "92694a9d-1fee-4b70-8ea3-a626d38298e5",
   "metadata": {},
   "outputs": [],
   "source": [
    "from sklearn.model_selection import train_test_split\n",
    "\n",
    "(design_matrix_train, design_matrix_test,target_vector_train,target_vector_test) = train_test_split(design_matrix, target_vector, test_size = 0.3, random_state = 47)"
   ]
  },
  {
   "cell_type": "markdown",
   "id": "f2e0c214-a6e3-4277-bc4f-9c2879606f70",
   "metadata": {},
   "source": [
    "Разделим выборку"
   ]
  },
  {
   "cell_type": "code",
   "execution_count": 44,
   "id": "79d07172-f8ec-49f3-9af4-9cfee5e0711a",
   "metadata": {},
   "outputs": [],
   "source": [
    "(design_matrix_valid, design_matrix_test, target_vector_valid, target_vector_test) = train_test_split(design_matrix_test, target_vector_test, test_size = 0.7, random_state = 47 )"
   ]
  },
  {
   "cell_type": "raw",
   "id": "cbe904a8-9c65-49d1-9590-1173ac57de73",
   "metadata": {},
   "source": []
  },
  {
   "cell_type": "code",
   "execution_count": 56,
   "id": "f89f538a-1a37-4642-804e-78d7e75eb270",
   "metadata": {},
   "outputs": [
    {
     "name": "stderr",
     "output_type": "stream",
     "text": [
      "100%|████████████████████████████████████████████████████████████████████████████████████████████████████████████████████████████████████████████████████████████████████████████████████████████████████████████████████████████████████████████████████████████| 48/48 [00:00<00:00, 49.91it/s]\n"
     ]
    }
   ],
   "source": [
    "from sklearn.tree import DecisionTreeClassifier\n",
    "from sklearn.metrics import accuracy_score\n",
    "from tqdm import tqdm\n",
    "\n",
    "\n",
    "best_DT = None\n",
    "best_accuracy_DT = 0\n",
    "best_depth_DT = 0\n",
    "for depth in tqdm(range(2,50)):\n",
    "    DT = DecisionTreeClassifier(random_state = 88, max_depth = depth)\n",
    "    DT.fit(design_matrix_train,target_vector_train)\n",
    "    prediction_valid_DT = DT.predict(design_matrix_valid)\n",
    "    accuracy_DT = accuracy_score(prediction_valid_DT, target_vector_valid)\n",
    "    if best_accuracy_DT < accuracy_DT:\n",
    "        best_DT = DT\n",
    "        best_accuracy_DT = accuracy_DT\n",
    "        best_depth_DT = depth"
   ]
  },
  {
   "cell_type": "code",
   "execution_count": 60,
   "id": "aa9edb36-b212-4dd6-91e6-e8154f59cafb",
   "metadata": {},
   "outputs": [
    {
     "name": "stderr",
     "output_type": "stream",
     "text": [
      "100%|████████████████████████████████████████████████████████████████████████████████████████████████████████████████████████████████████████████████████████████████████████████████████████████████████████████████████████████████████████████████████████████| 49/49 [02:44<00:00,  3.35s/it]\n"
     ]
    }
   ],
   "source": [
    "from tqdm import tqdm\n",
    "from sklearn.ensemble import RandomForestClassifier\n",
    "\n",
    "best_RF = None\n",
    "best_accuracy_RF = 0\n",
    "best_est_RF = 0\n",
    "best_depth_RF = 0\n",
    "for est in tqdm(range(2,51)):\n",
    "    for depth in range(2,25):\n",
    "        RF = RandomForestClassifier(random_state = 47 ,n_estimators = est, max_depth = depth)\n",
    "        RF.fit(design_matrix_train,target_vector_train)\n",
    "        prediction_valid_RF = RF.predict(design_matrix_valid)\n",
    "        accuracy_RF = accuracy_score(prediction_valid_RF, target_vector_valid)\n",
    "        if best_accuracy_RF < accuracy_RF:\n",
    "            best_RF = RF\n",
    "            best_depth_RF = depth\n",
    "            best_est_RF = est\n",
    "            best_accuracy_RF = accuracy_RF"
   ]
  },
  {
   "cell_type": "code",
   "execution_count": 57,
   "id": "bc05ca13-9901-46f1-81b3-abbae949c13b",
   "metadata": {},
   "outputs": [],
   "source": [
    "from sklearn.linear_model import LogisticRegression\n",
    "\n",
    "LR = LogisticRegression(random_state = 47, max_iter= 1000,tol=1e-5,solver = 'lbfgs' )\n",
    "LR.fit(design_matrix_train,target_vector_train)\n",
    "prediction_valid_LR = LR.predict(design_matrix_valid)\n",
    "accuracy_LR = accuracy_score(prediction_valid_LR, target_vector_valid)"
   ]
  },
  {
   "cell_type": "code",
   "execution_count": 58,
   "id": "113fc139-cb31-4fe8-9d2b-ae619da672e7",
   "metadata": {},
   "outputs": [
    {
     "name": "stdout",
     "output_type": "stream",
     "text": [
      "Logistic Regression: 0.7058823529411765\n",
      "Random Forest: 0.8166089965397924\n",
      "Decision Tree: 0.8027681660899654\n"
     ]
    }
   ],
   "source": [
    "print(f\"Logistic Regression: {accuracy_LR}\")\n",
    "print(f\"Random Forest: {best_accuracy_RF}\")\n",
    "print(f\"Decision Tree: {best_accuracy_DT}\")"
   ]
  },
  {
   "cell_type": "code",
   "execution_count": 59,
   "id": "0cb00b6a-15f2-4cb6-a595-4f86f296806d",
   "metadata": {},
   "outputs": [
    {
     "name": "stdout",
     "output_type": "stream",
     "text": [
      "Logistic Regression: 0.7130177514792899\n",
      "Random Forest: 0.8017751479289941\n",
      "Decision Tree: 0.7810650887573964\n"
     ]
    }
   ],
   "source": [
    "prediction_test_LR = LR.predict(design_matrix_test)\n",
    "prediction_test_RF = best_RF.predict(design_matrix_test)\n",
    "prediction_test_DT = best_DT.predict(design_matrix_test)\n",
    "\n",
    "accuracy_LR_test = accuracy_score(prediction_test_LR, target_vector_test)\n",
    "accuracy_RF_test = accuracy_score(prediction_test_RF, target_vector_test)\n",
    "accuracy_DT_test = accuracy_score(prediction_test_DT, target_vector_test)\n",
    "\n",
    "print(f\"Logistic Regression: {accuracy_LR_test}\")\n",
    "print(f\"Random Forest: {accuracy_RF_test}\")\n",
    "print(f\"Decision Tree: {accuracy_DT_test}\")"
   ]
  },
  {
   "cell_type": "code",
   "execution_count": null,
   "id": "c6b4e344-73a8-4a37-87ee-0a365888b4a7",
   "metadata": {},
   "outputs": [],
   "source": []
  }
 ],
 "metadata": {
  "kernelspec": {
   "display_name": "Python 3 (ipykernel)",
   "language": "python",
   "name": "python3"
  },
  "language_info": {
   "codemirror_mode": {
    "name": "ipython",
    "version": 3
   },
   "file_extension": ".py",
   "mimetype": "text/x-python",
   "name": "python",
   "nbconvert_exporter": "python",
   "pygments_lexer": "ipython3",
   "version": "3.10.9"
  }
 },
 "nbformat": 4,
 "nbformat_minor": 5
}
